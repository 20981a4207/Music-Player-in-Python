{
 "cells": [
  {
   "cell_type": "code",
   "execution_count": 112,
   "id": "f6cc728f",
   "metadata": {},
   "outputs": [],
   "source": [
    "# Import necessary modules\n",
    "from tkinter import *\n",
    "from tkinter import filedialog\n",
    "import pygame.mixer as mixer\n",
    "import os"
   ]
  },
  {
   "cell_type": "code",
   "execution_count": 113,
   "id": "84404adc",
   "metadata": {},
   "outputs": [],
   "source": [
    "# Function to play the selected song from the playlist\n",
    "def play_song():\n",
    "    selected_song = playlist.curselection()\n",
    "    if selected_song:\n",
    "        song_index = selected_song[0]\n",
    "        song_name = playlist.get(song_index)\n",
    "\n",
    "        mixer.music.load(song_name)  # Load the selected song using pygame\n",
    "        mixer.music.play()  # Play the loaded song\n",
    "        status.set(\"Now playing: \" + os.path.basename(song_name))  # Update the status label\n",
    "\n",
    "# Function to stop the currently playing song\n",
    "def stop_song():\n",
    "    mixer.music.stop()  # Stop the music playback\n",
    "    status.set(\"Song stopped\")  # Update the status label\n",
    "\n",
    "# Function to load music files from a selected directory into the playlist\n",
    "def load():\n",
    "    directory = filedialog.askdirectory(title='Open a songs directory')\n",
    "    if directory:\n",
    "        os.chdir(directory)\n",
    "\n",
    "        tracks = os.listdir()\n",
    "        playlist.delete(0, END)  # Clear the current playlist\n",
    "        for track in tracks:\n",
    "            if track.lower().endswith(('.mp3', '.wav', '.ogg', '.flac')):\n",
    "                playlist.insert(END, track)  # Insert compatible music files into the playlist\n",
    "\n",
    "# Function to pause the currently playing song\n",
    "def pause_song():\n",
    "    mixer.music.pause()  # Pause the music playback\n",
    "    status.set(\"Song paused\")  # Update the status label\n",
    "\n",
    "# Function to resume a paused song\n",
    "def resume_song():\n",
    "    mixer.music.unpause()  # Resume the paused music playback\n",
    "    status.set(\"Song resumed\")  # Update the status label\n"
   ]
  },
  {
   "cell_type": "code",
   "execution_count": 114,
   "id": "001ccfc2",
   "metadata": {},
   "outputs": [
    {
     "data": {
      "text/plain": [
       "''"
      ]
     },
     "execution_count": 114,
     "metadata": {},
     "output_type": "execute_result"
    }
   ],
   "source": [
    "# Initializing the mixer (Pygame)\n",
    "mixer.init()\n",
    "\n",
    "# Creating the main GUI window for the music player\n",
    "root = Tk()\n",
    "root.geometry('800x280')  # Set window size to 800x280\n",
    "root.title('PythonGeeks Music Player')\n",
    "root.resizable(0, 0)\n"
   ]
  },
  {
   "cell_type": "code",
   "execution_count": 115,
   "id": "63f2328a",
   "metadata": {},
   "outputs": [],
   "source": [
    "# Frames for different sections of the GUI\n",
    "song_frame = LabelFrame(root, text='Current Song', bg='LightSalmon', width=500, height=80)\n",
    "song_frame.place(x=10, y=10)\n",
    "\n",
    "button_frame = LabelFrame(root, text='Control Buttons', bg='LightCyan', width=500, height=120)\n",
    "button_frame.place(y=100)\n",
    "\n",
    "listbox_frame = LabelFrame(root, text='Playlist', bg='LightGreen', width=280, height=200)\n",
    "listbox_frame.place(x=520, y=10)\n"
   ]
  },
  {
   "cell_type": "code",
   "execution_count": 116,
   "id": "859f57e5",
   "metadata": {},
   "outputs": [],
   "source": [
    "# Playlist ListBox to display loaded songs\n",
    "playlist = Listbox(listbox_frame, font=('Arial', 12), selectbackground='Yellow', selectmode=SINGLE)\n",
    "playlist.pack(fill=BOTH, expand=True, padx=5, pady=5)\n",
    "\n",
    "scroll_bar = Scrollbar(listbox_frame, orient=VERTICAL, command=playlist.yview)\n",
    "scroll_bar.pack(side=RIGHT, fill=Y)\n",
    "\n",
    "playlist.config(yscrollcommand=scroll_bar.set)\n"
   ]
  },
  {
   "cell_type": "code",
   "execution_count": 117,
   "id": "8f28ac58",
   "metadata": {},
   "outputs": [],
   "source": [
    "# Label to display the currently playing song\n",
    "Label(song_frame, text='CURRENTLY PLAYING:', bg='LightSalmon', font=('Times', 14, 'bold')).place(x=5, y=20)\n",
    "current_song = StringVar(value='<Not selected>')\n",
    "song_lbl = Label(song_frame, textvariable=current_song, bg='Gold', font=(\"Arial\", 16), width=30)\n",
    "song_lbl.place(x=200, y=20)\n"
   ]
  },
  {
   "cell_type": "code",
   "execution_count": 118,
   "id": "2aa64b28",
   "metadata": {},
   "outputs": [],
   "source": [
    "# Buttons in the main screen\n",
    "play_btn = Button(button_frame, text='Play', bg='PaleTurquoise', font=(\"Helvetica\", 14), width=8, command=play_song)\n",
    "play_btn.grid(row=0, column=0, padx=15, pady=10)\n",
    "\n",
    "pause_btn = Button(button_frame, text='Pause', bg='PaleTurquoise', font=(\"Helvetica\", 14), width=8, command=pause_song)\n",
    "pause_btn.grid(row=0, column=1, padx=15, pady=10)\n",
    "\n",
    "resume_btn = Button(button_frame, text='Resume', bg='PaleTurquoise', font=(\"Helvetica\", 14), width=8, command=resume_song)\n",
    "resume_btn.grid(row=0, column=2, padx=15, pady=10)\n",
    "\n",
    "stop_btn = Button(button_frame, text='Stop', bg='PaleTurquoise', font=(\"Helvetica\", 14), width=8, command=stop_song)\n",
    "stop_btn.grid(row=0, column=3, padx=15, pady=10)\n",
    "\n",
    "load_btn = Button(button_frame, text='Load Directory', bg='PaleTurquoise', font=(\"Helvetica\", 14), width=20, command=load)\n",
    "load_btn.grid(row=1, column=0, columnspan=4, pady=10)\n"
   ]
  },
  {
   "cell_type": "code",
   "execution_count": 119,
   "id": "ff4329f6",
   "metadata": {},
   "outputs": [],
   "source": [
    "# Label at the bottom to display the playback status\n",
    "status = StringVar(value='<Not Available>')\n",
    "Label(root, textvariable=status, bg='LightBlue', font=('Arial', 12), justify=LEFT).pack(side=BOTTOM, fill=X)\n",
    "\n",
    "# Finalizing the GUI and running the main event loop\n",
    "root.mainloop()\n"
   ]
  },
  {
   "cell_type": "code",
   "execution_count": null,
   "id": "2a72bc24",
   "metadata": {},
   "outputs": [],
   "source": []
  }
 ],
 "metadata": {
  "kernelspec": {
   "display_name": "Python 3 (ipykernel)",
   "language": "python",
   "name": "python3"
  },
  "language_info": {
   "codemirror_mode": {
    "name": "ipython",
    "version": 3
   },
   "file_extension": ".py",
   "mimetype": "text/x-python",
   "name": "python",
   "nbconvert_exporter": "python",
   "pygments_lexer": "ipython3",
   "version": "3.9.13"
  }
 },
 "nbformat": 4,
 "nbformat_minor": 5
}
